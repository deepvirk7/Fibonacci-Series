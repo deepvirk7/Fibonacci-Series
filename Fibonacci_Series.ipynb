{
  "nbformat": 4,
  "nbformat_minor": 0,
  "metadata": {
    "colab": {
      "provenance": [],
      "authorship_tag": "ABX9TyOGv1Axy5ia3vh6W6kZ4eK0",
      "include_colab_link": true
    },
    "kernelspec": {
      "name": "python3",
      "display_name": "Python 3"
    },
    "language_info": {
      "name": "python"
    }
  },
  "cells": [
    {
      "cell_type": "markdown",
      "metadata": {
        "id": "view-in-github",
        "colab_type": "text"
      },
      "source": [
        "<a href=\"https://colab.research.google.com/github/deepvirk7/Fibonacci-Series/blob/main/Fibonacci_Series.ipynb\" target=\"_parent\"><img src=\"https://colab.research.google.com/assets/colab-badge.svg\" alt=\"Open In Colab\"/></a>"
      ]
    },
    {
      "cell_type": "code",
      "execution_count": null,
      "metadata": {
        "id": "wRCnSyJr-P80"
      },
      "outputs": [],
      "source": [
        "////Fibonacci Series////\n",
        "#include <iostream>\n",
        "using namespace std;\n",
        "\n",
        "int main() {\n",
        "    int n, x = 0, y = 1, nextTerm = 0;\n",
        "    cout << \"Enter the number of terms: \";\n",
        "    cin >> n;\n",
        "    cout << \"Fibonacci Series: \";\n",
        "\n",
        "    for (int i = 1; i <= n; ++i) {\n",
        "        if(i == 1) {\n",
        "            cout << x << \", \";\n",
        "            continue;\n",
        "        }\n",
        "        if(i == 2) {\n",
        "            cout << y << \", \";\n",
        "            continue;\n",
        "        }\n",
        "        nextTerm = x + y;\n",
        "        x = y;\n",
        "        y = nextTerm;\n",
        "        cout << nextTerm << \", \";\n",
        "    }\n",
        "    return 0;\n",
        "}\n"
      ]
    }
  ]
}